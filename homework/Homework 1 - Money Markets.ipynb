{
 "cells": [
  {
   "cell_type": "markdown",
   "id": "d1abe420-27b3-4595-9e65-b99c8e6a1334",
   "metadata": {},
   "source": [
    "# Homework 1\n",
    "\n",
    "## Markets\n",
    "\n",
    "### UChicago Financial Mathematics\n",
    "\n",
    "#### September 2024\n",
    "\n",
    "* Mark Hendricks\n",
    "* hendricks@uchicago.edu\n",
    "\n",
    "#### This assignment is not submitted, graded, or for credit. \n",
    "Rather, it is assigned for learning purposes."
   ]
  },
  {
   "cell_type": "markdown",
   "id": "47daec9b",
   "metadata": {},
   "source": [
    "***"
   ]
  },
  {
   "cell_type": "markdown",
   "id": "ad24a0ed",
   "metadata": {},
   "source": [
    "# 1. Exploring Money-Market Rates"
   ]
  },
  {
   "cell_type": "markdown",
   "id": "d5afaddc",
   "metadata": {
    "jp-MarkdownHeadingCollapsed": true
   },
   "source": [
    "Use the data in `data/ref_rates.xlsx` to explore several key money-market rates.\n",
    "* SOFR\n",
    "* Fed funds\n",
    "* 3-month T-bill yield\n",
    "\n",
    "\n",
    "### 1.\n",
    "Plot the time series.\n",
    "\n",
    "### 2.\n",
    "Calculate the correlation between the three rates (filtering to the dates for which they all have reported values.)\n",
    "\n",
    "Do this correlation analysis for the data in\n",
    "* levels (as provided)\n",
    "* differences (day-over-day changes)\n",
    "\n",
    "### 3.\n",
    "\n",
    "Estimate an autoregression for SOFR:\n",
    "\n",
    "$$r_{t} = \\alpha + \\beta\\, r_{t-1} + \\epsilon_{t}$$\n",
    "\n",
    "Report the estimated regression beta and r-squared.\n",
    "\n",
    "Comment on what this regression tells us about the nature of interest rates. \n",
    "* That is, can we forecast the next period's rate? \n",
    "* Does the series have **autocorrelation**?\n",
    "\n",
    "### 4.\n",
    "\n",
    "Estimate an autoregression for returns of the S&P 500 ETF, `SPY`, rather than using SOFR. Get data from \n",
    "* `data/spy_data.xlsx`\n",
    "\n",
    "Are SPY returns autocorrelated? And SPY prices?"
   ]
  },
  {
   "cell_type": "markdown",
   "id": "368179c6",
   "metadata": {},
   "source": [
    "***"
   ]
  },
  {
   "cell_type": "code",
   "execution_count": 11,
   "id": "35139806",
   "metadata": {},
   "outputs": [],
   "source": [
    "def piloesOfBoxes(boxesInPiles):\n",
    "    sorted_box = sorted(boxesInPiles, reverse=True)\n",
    "\n",
    "    output = 0\n",
    "    \n",
    "    for i in range(1, len(sorted_box)):\n",
    "        if sorted_box[i] < sorted_box[i - 1]:\n",
    "            output += i\n",
    "    \n",
    "    return output"
   ]
  },
  {
   "cell_type": "code",
   "execution_count": 10,
   "id": "ed3e9a39",
   "metadata": {},
   "outputs": [
    {
     "data": {
      "text/plain": [
       "6"
      ]
     },
     "execution_count": 10,
     "metadata": {},
     "output_type": "execute_result"
    }
   ],
   "source": [
    "piloesOfBoxes([4,5,5,2,4])"
   ]
  }
 ],
 "metadata": {
  "hide_input": false,
  "kernelspec": {
   "display_name": "finm",
   "language": "python",
   "name": "python3"
  },
  "language_info": {
   "codemirror_mode": {
    "name": "ipython",
    "version": 3
   },
   "file_extension": ".py",
   "mimetype": "text/x-python",
   "name": "python",
   "nbconvert_exporter": "python",
   "pygments_lexer": "ipython3",
   "version": "3.12.4"
  }
 },
 "nbformat": 4,
 "nbformat_minor": 5
}
